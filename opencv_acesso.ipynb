{
 "cells": [
  {
   "cell_type": "code",
   "execution_count": 24,
   "metadata": {},
   "outputs": [],
   "source": [
    "import cv2 \n",
    "import pyautogui \n",
    "import os \n",
    "import numpy as np"
   ]
  },
  {
   "cell_type": "code",
   "execution_count": 5,
   "metadata": {},
   "outputs": [],
   "source": [
    "def img_def(img_name):\n",
    "    return os.path.join(os.getcwd(),\"dep_img\",img_name)"
   ]
  },
  {
   "cell_type": "code",
   "execution_count": 46,
   "metadata": {},
   "outputs": [],
   "source": [
    "\n",
    "tela = cv2.imread(img_def(\"image1.png\"), cv2.IMREAD_UNCHANGED)\n",
    "botao = cv2.imread(img_def(\"bot_buscar.png\"), cv2.IMREAD_UNCHANGED)\n",
    "result = cv2.matchTemplate(tela, botao, cv2.TM_CCOEFF_NORMED) "
   ]
  },
  {
   "cell_type": "code",
   "execution_count": 53,
   "metadata": {},
   "outputs": [],
   "source": [
    "cv2.imshow(\"RGB Image\", tela)\n",
    "cv2.waitKey()\n",
    "cv2.destroyAllWindows()\n"
   ]
  },
  {
   "cell_type": "code",
   "execution_count": 9,
   "metadata": {},
   "outputs": [],
   "source": [
    "min_val,max_val, min_loc,max_loc = cv2.minMaxLoc(result)"
   ]
  },
  {
   "cell_type": "code",
   "execution_count": 13,
   "metadata": {},
   "outputs": [
    {
     "data": {
      "text/plain": [
       "((540, 590), 1.0)"
      ]
     },
     "execution_count": 13,
     "metadata": {},
     "output_type": "execute_result"
    }
   ],
   "source": [
    "max_loc,max_val"
   ]
  },
  {
   "cell_type": "code",
   "execution_count": 14,
   "metadata": {},
   "outputs": [],
   "source": [
    "w = botao.shape[1]\n",
    "h = botao.shape[0]"
   ]
  },
  {
   "cell_type": "code",
   "execution_count": 52,
   "metadata": {},
   "outputs": [
    {
     "data": {
      "text/plain": [
       "array([[[233, 227, 221],\n",
       "        [233, 227, 221],\n",
       "        [233, 227, 221],\n",
       "        ...,\n",
       "        [233, 227, 221],\n",
       "        [233, 227, 221],\n",
       "        [233, 227, 221]],\n",
       "\n",
       "       [[233, 227, 221],\n",
       "        [233, 227, 221],\n",
       "        [233, 227, 221],\n",
       "        ...,\n",
       "        [233, 227, 221],\n",
       "        [233, 227, 221],\n",
       "        [233, 227, 221]],\n",
       "\n",
       "       [[233, 227, 221],\n",
       "        [233, 227, 221],\n",
       "        [233, 227, 221],\n",
       "        ...,\n",
       "        [233, 227, 221],\n",
       "        [233, 227, 221],\n",
       "        [233, 227, 221]],\n",
       "\n",
       "       ...,\n",
       "\n",
       "       [[218, 218, 218],\n",
       "        [217, 217, 217],\n",
       "        [217, 217, 217],\n",
       "        ...,\n",
       "        [217, 217, 217],\n",
       "        [217, 217, 217],\n",
       "        [217, 217, 217]],\n",
       "\n",
       "       [[218, 218, 218],\n",
       "        [217, 217, 217],\n",
       "        [217, 217, 217],\n",
       "        ...,\n",
       "        [219, 219, 219],\n",
       "        [218, 218, 218],\n",
       "        [219, 219, 219]],\n",
       "\n",
       "       [[218, 218, 218],\n",
       "        [219, 219, 219],\n",
       "        [218, 218, 218],\n",
       "        ...,\n",
       "        [218, 218, 218],\n",
       "        [218, 218, 218],\n",
       "        [218, 218, 218]]], dtype=uint8)"
      ]
     },
     "execution_count": 52,
     "metadata": {},
     "output_type": "execute_result"
    }
   ],
   "source": [
    "cv2.rectangle(tela, max_loc, (max_loc[0]+w,max_loc[1]+h), (255,0,0),2)"
   ]
  },
  {
   "cell_type": "code",
   "execution_count": 49,
   "metadata": {},
   "outputs": [],
   "source": [
    "tr = 0.9"
   ]
  },
  {
   "cell_type": "code",
   "execution_count": 50,
   "metadata": {},
   "outputs": [],
   "source": [
    "yloc,xloc = np.where(result>= tr)"
   ]
  },
  {
   "cell_type": "code",
   "execution_count": 54,
   "metadata": {},
   "outputs": [
    {
     "name": "stdout",
     "output_type": "stream",
     "text": [
      "1\n"
     ]
    }
   ],
   "source": [
    "for (x,y) in zip(xloc,yloc):\n",
    "    print(1)\n",
    "    cv2.rectangle(tela, (x,y), (x+w,y+h), (255,0,0),2)    "
   ]
  }
 ],
 "metadata": {
  "kernelspec": {
   "display_name": "env",
   "language": "python",
   "name": "python3"
  },
  "language_info": {
   "codemirror_mode": {
    "name": "ipython",
    "version": 3
   },
   "file_extension": ".py",
   "mimetype": "text/x-python",
   "name": "python",
   "nbconvert_exporter": "python",
   "pygments_lexer": "ipython3",
   "version": "3.10.4"
  }
 },
 "nbformat": 4,
 "nbformat_minor": 2
}
